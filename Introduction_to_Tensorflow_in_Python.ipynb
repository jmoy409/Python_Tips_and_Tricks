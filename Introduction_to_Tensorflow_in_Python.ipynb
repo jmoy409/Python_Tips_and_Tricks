{
 "cells": [
  {
   "cell_type": "markdown",
   "id": "9357ea99-bc5d-4bb1-8983-3d8f55a68d2e",
   "metadata": {},
   "source": [
    "### What is TensorFlow?\n",
    "- Open-source library for graph-based numerical computation\n",
    "- low and high APIs\n",
    "- model building with Keras and Estimators\n",
    "\n",
    "- Tensor is a multidimensional numpy array\n"
   ]
  },
  {
   "cell_type": "markdown",
   "id": "6ec05e3d-18c1-484c-98af-1843a4df4a79",
   "metadata": {},
   "source": [
    "### Defining data as constants\n",
    "Throughout this course, we will use tensorflow version 2.6.0 and will exclusively import the submodules needed to complete each exercise. This will usually be done for you, but you will do it in this exercise by importing constant from tensorflow.\n",
    "\n",
    "After you have imported constant, you will use it to transform a numpy array, credit_numpy, into a tensorflow constant, credit_constant. This array contains feature columns from a dataset on credit card holders and is previewed in the image below. We will return to this dataset in later chapters.\n",
    "\n",
    "Note that tensorflow 2 allows you to use data as either a numpy array or a tensorflow constant object. Using a constant will ensure that any operations performed with that object are done in tensorflow.\n",
    "\n",
    "Import the constant submodule from the tensorflow module.\n",
    "Convert the credit_numpy array into a constant object in tensorflow. Do not set the data type."
   ]
  },
  {
   "cell_type": "code",
   "execution_count": null,
   "id": "5eac3461-3d64-4b9e-acec-b9d1c2aef9d6",
   "metadata": {},
   "outputs": [],
   "source": [
    "# Import constant from TensorFlow\n",
    "from tensorflow import constant\n",
    "\n",
    "# Convert the credit_numpy array into a tensorflow constant\n",
    "credit_constant = constant(credit_numpy)\n",
    "\n",
    "# Print constant datatype\n",
    "print('\\n The datatype is:', credit_constant.dtype)\n",
    "\n",
    "# Print constant shape\n",
    "print('\\n The shape is:', credit_constant.shape)"
   ]
  },
  {
   "cell_type": "markdown",
   "id": "2e10ad1a-e502-4069-bd0f-0cfbe3e80226",
   "metadata": {},
   "source": [
    "### Defining Variables\n",
    "\n",
    "#### Unlike a constant, a variable's value can be modified. This will be useful when we want to train a model by updating its parameters.\n",
    "\n",
    "Let's try defining and printing a variable. We'll then convert the variable to a numpy array, print again, and check for differences. Note that Variable(), which is used to create a variable tensor, has been imported from tensorflow and is available to use in the exercise.\n",
    "\n",
    "Instructions\n",
    "100 XP\n",
    "Define a variable, A1, as the 1-dimensional tensor: [1, 2, 3, 4].\n",
    "Apply .numpy() to A1 and assign it to B1.\n",
    "\n"
   ]
  },
  {
   "cell_type": "code",
   "execution_count": null,
   "id": "fbedd856-fcf8-442a-b987-0494a30a576e",
   "metadata": {},
   "outputs": [],
   "source": [
    "# Define the 1-dimensional variable A1\n",
    "A1 = Variable([1, 2, 3, 4])\n",
    "\n",
    "# Print the variable A1\n",
    "print('\\n A1: ', A1)\n",
    "\n",
    "# Convert A1 to a numpy array and assign it to B1\n",
    "B1 = A1.numpy()\n",
    "\n",
    "# Print B1\n",
    "print('\\n B1: ', B1)"
   ]
  },
  {
   "cell_type": "markdown",
   "id": "b7bf6101-0f2d-4898-95c8-4753a7687b2b",
   "metadata": {},
   "source": [
    "### TensorFlow operation\n",
    "- TensorFlow graph contains edges and nodes, where the edges are tensors and the nodes are operations\n",
    "\n",
    "#### Performing tensor addition\n",
    "- the add() operation performs element-wise addition with 2 tensors\n",
    "- element wise addition requires both tensors to have the same shape:\n",
    "\n",
    "#### Multiplication\n",
    "- tensors must have the same shape to multiply\n",
    "- Number of columns of A must equal number of rows of B\n",
    "\n",
    "#### Summing over tensor dimensions\n",
    "- reduce_sum() operator sums over the dimensions of a tensor\n",
    "- reduce_sum(A) sums over all dimensions of A\n",
    "- reduce_sum(A, i) sums over dimension i\n",
    "\n",
    "\n"
   ]
  },
  {
   "cell_type": "markdown",
   "id": "1e1c61dd-8542-4689-bf7e-b49d31756f0e",
   "metadata": {},
   "source": [
    "### Performing element-wise multiplication\n",
    "Element-wise multiplication in TensorFlow is performed using two tensors with identical shapes. This is because the operation multiplies elements in corresponding positions in the two tensors. An example of an element-wise multiplication, denoted by the \n",
    " symbol, is shown below:\n",
    "\n",
    "  \n",
    "In this exercise, you will perform element-wise multiplication, paying careful attention to the shape of the tensors you multiply. Note that multiply(), constant(), and ones_like() have been imported for you.\n",
    "\n",
    "Instructions\n",
    "100 XP\n",
    "Define the tensors A1 and A23 as constants.\n",
    "Set B1 to be a tensor of ones with the same shape as A1.\n",
    "Set B23 to be a tensor of ones with the same shape as A23.\n",
    "Set C1 and C23 equal to the element-wise products of A1 and B1, and A23 and B23, respectively."
   ]
  },
  {
   "cell_type": "code",
   "execution_count": null,
   "id": "449953eb-304d-4e3a-a353-a84d2794d546",
   "metadata": {},
   "outputs": [],
   "source": [
    "# Define tensors A1 and A23 as constants\n",
    "A1 = constant([1, 2, 3, 4])\n",
    "A23 = constant([[1, 2, 3], [1, 6, 4]])\n",
    "\n",
    "# Define B1 and B23 to have the correct shape\n",
    "B1 = ones_like(A1)\n",
    "B23 = ones_like(A23)\n",
    "\n",
    "# Perform element-wise multiplication\n",
    "C1 = A1*B1\n",
    "C23 = A23*B23\n",
    "\n",
    "# Print the tensors C1 and C23\n",
    "print('\\n C1: {}'.format(C1.numpy()))\n",
    "print('\\n C23: {}'.format(C23.numpy()))"
   ]
  },
  {
   "cell_type": "markdown",
   "id": "0bc7b8bd-7494-43ee-9d94-bf0f21093a20",
   "metadata": {},
   "source": [
    "### Making predictions with matrix multiplication\n",
    "In later chapters, you will learn to train linear regression models. This process will yield a vector of parameters that can be multiplied by the input data to generate predictions. In this exercise, you will use input data, features, and a target vector, bill, which are taken from a credit card dataset we will use later in the course.\n",
    "\n",
    "The matrix of input data, features, contains two columns: education level and age. The target vector, bill, is the size of the credit card borrower's bill.\n",
    "\n",
    "Since we have not trained the model, you will enter a guess for the values of the parameter vector, params. You will then use matmul() to perform matrix multiplication of features by params to generate predictions, billpred, which you will compare with bill. Note that we have imported matmul() and constant().\n",
    "\n",
    "Instructions\n",
    "100 XP\n",
    "Define features, params, and bill as constants.\n",
    "Compute the predicted value vector, billpred, by multiplying the input data, features, by the parameters, params. Use matrix multiplication, rather than the element-wise product.\n",
    "Define error as the targets, bill, minus the predicted values, billpred."
   ]
  },
  {
   "cell_type": "code",
   "execution_count": null,
   "id": "0c83f93e-0631-4d70-9f2f-4f8e4b8aac2a",
   "metadata": {},
   "outputs": [],
   "source": [
    "# Define features, params, and bill as constants\n",
    "features = constant([[2, 24], [2, 26], [2, 57], [1, 37]])\n",
    "params = constant([[1000], [150]])\n",
    "bill = constant([[3913], [2682], [8617], [64400]])\n",
    "\n",
    "# Compute billpred using features and params\n",
    "billpred = matmul(features, params)\n",
    "\n",
    "# Compute and print the error\n",
    "error = bill - billpred\n",
    "print(error.numpy())"
   ]
  },
  {
   "cell_type": "markdown",
   "id": "5d68d8cc-410c-42f5-b058-ba13adff16b4",
   "metadata": {},
   "source": [
    "### Summing over tensor dimensions\n",
    "You've been given a matrix, wealth. This contains the value of bond and stock wealth for five individuals in thousands of dollars.\n",
    "\n",
    "wealth = <tf.Tensor: shape=(5, 2), dtype=int32, numpy=\n",
    "array([[11, 50],\n",
    "       [ 7,  2],\n",
    "       [ 4, 60],\n",
    "       [ 3,  0],\n",
    "       [25, 10]], dtype=int32)>\n",
    " \n",
    "\n",
    "The first column corresponds to bonds and the second corresponds to stocks. Each row gives the bond and stock wealth for a single individual. Use wealth, reduce_sum(), and .numpy() to determine which statements are correct about wealth."
   ]
  },
  {
   "cell_type": "code",
   "execution_count": null,
   "id": "530fb45a-d61c-4c64-a1ec-88bc41df7c94",
   "metadata": {},
   "outputs": [],
   "source": [
    "reduce_sum(wealth, 1)\n",
    "<tf.Tensor: shape=(5,), dtype=int32, numpy=array([61,  9, 64,  3, 35], dtype=int32)>\n",
    "    \n",
    "reduce_sum(wealth, 0)\n",
    "<tf.Tensor: shape=(2,), dtype=int32, numpy=array([ 50, 122], dtype=int32)>"
   ]
  },
  {
   "cell_type": "markdown",
   "id": "57f1890e-2ce0-4357-a62e-1443f8640482",
   "metadata": {},
   "source": [
    "### Overview of advanced operations\n",
    "- Gradient(): Computes the slope of a function at a point\n",
    "- reshape(): Reshapes a tensor (ex: 10x10)\n",
    "- random(): Populates tensor with entries drawn from a probability distribution"
   ]
  },
  {
   "cell_type": "markdown",
   "id": "f3b5c72e-2110-4e23-b74c-523b48628624",
   "metadata": {},
   "source": [
    "### Reshaping tensors\n",
    "Later in the course, you will classify images of sign language letters using a neural network. In some cases, the network will take 1-dimensional tensors as inputs, but your data will come in the form of images, which will either be either 2- or 3-dimensional tensors, depending on whether they are grayscale or color images.\n",
    "\n",
    "The figure below shows grayscale and color images of the sign language letter A. The two images have been imported for you and converted to the numpy arrays gray_tensor and color_tensor. Reshape these arrays into 1-dimensional vectors using the reshape operation, which has been imported for you from tensorflow. Note that the shape of gray_tensor is 28x28 and the shape of color_tensor is 28x28x3.\n",
    "\n",
    "This figure shows grayscale and color images of the sign language letter \"A\".\n",
    "\n",
    "Instructions\n",
    "100 XP\n",
    "Reshape gray_tensor from a 28x28 matrix into a 784x1 vector named gray_vector.\n",
    "Reshape color_tensor from a 28x28x3 tensor into a 2352x1 vector named color_vector."
   ]
  },
  {
   "cell_type": "code",
   "execution_count": null,
   "id": "1110828d-c4b2-4973-855e-7e5805a2e56b",
   "metadata": {},
   "outputs": [],
   "source": [
    "# Reshape the grayscale image tensor into a vector\n",
    "gray_vector = reshape(gray_tensor, (784, 1))\n",
    "\n",
    "# Reshape the color image tensor into a vector\n",
    "color_vector = reshape(color_tensor, (2352, 1))"
   ]
  },
  {
   "cell_type": "markdown",
   "id": "f71551ea-5fbb-4d95-b4ee-be7cd67e91b6",
   "metadata": {},
   "source": [
    "### Optimizing with gradients\n",
    "You are given a loss function, \n",
    ", which you want to minimize. You can do this by computing the slope using the GradientTape() operation at different values of x. If the slope is positive, you can decrease the loss by lowering x. If it is negative, you can decrease it by increasing x. This is how gradient descent works.\n",
    "\n",
    "The image shows a plot of y equals x squared. It also shows the gradient at x equals -1, x equals 0, and x equals 1.\n",
    "\n",
    "In practice, you will use a high level tensorflow operation to perform gradient descent automatically. In this exercise, however, you will compute the slope at x values of -1, 1, and 0. The following operations are available: GradientTape(), multiply(), and Variable().\n",
    "\n",
    "Instructions\n",
    "100 XP\n",
    "Define x as a variable with the initial value x0.\n",
    "Set the loss function, y, equal to x multiplied by x. Do not make use of operator overloading.\n",
    "Set the function to return the gradient of y with respect to x."
   ]
  },
  {
   "cell_type": "code",
   "execution_count": null,
   "id": "a8e241c9-783f-4cd4-9cf7-c31f07491a9a",
   "metadata": {},
   "outputs": [],
   "source": [
    "def compute_gradient(x0):\n",
    "    # Define x as a variable with an initial value of x0\n",
    "    x = Variable(x0)\n",
    "    with GradientTape() as tape:\n",
    "        tape.watch(x)\n",
    "        # Define y using the multiply operation\n",
    "        y = x * x\n",
    "    # Return the gradient of y with respect to x\n",
    "    return tape.gradient(y, x).numpy()\n",
    "\n",
    "# Compute and print gradients at x = -1, 1, and 0\n",
    "print(compute_gradient(-1.0))\n",
    "print(compute_gradient(1.0))\n",
    "print(compute_gradient(0.0))"
   ]
  },
  {
   "cell_type": "markdown",
   "id": "379c1269-db82-4724-a080-707c4a962def",
   "metadata": {},
   "source": [
    "### Working with image data\n",
    "You are given a black-and-white image of a letter, which has been encoded as a tensor, letter. You want to determine whether the letter is an X or a K. You don't have a trained neural network, but you do have a simple model, model, which can be used to classify letter.\n",
    "\n",
    "The 3x3 tensor, letter, and the 1x3 tensor, model, are available in the Python shell. You can determine whether letter is a K by multiplying letter by model, summing over the result, and then checking if it is equal to 1. As with more complicated models, such as neural networks, model is a collection of weights, arranged in a tensor.\n",
    "\n",
    "Note that the functions reshape(), matmul(), and reduce_sum() have been imported from tensorflow and are available for use.\n",
    "\n",
    "Instructions\n",
    "100 XP\n",
    "The model, model, is 1x3 tensor, but should be a 3x1. Reshape model.\n",
    "Perform a matrix multiplication of the 3x3 tensor, letter, by the 3x1 tensor, model.\n",
    "Sum over the resulting tensor, output, and assign this value to prediction.\n",
    "Print prediction using the .numpy() method to determine whether letter is K."
   ]
  },
  {
   "cell_type": "code",
   "execution_count": null,
   "id": "25d14e86-70cc-4730-8697-334895ae29e8",
   "metadata": {},
   "outputs": [],
   "source": [
    "# Reshape model from a 1x3 to a 3x1 tensor\n",
    "model = reshape(model, (3, 1))\n",
    "\n",
    "# Multiply letter by model\n",
    "output = matmul(letter, model)\n",
    "\n",
    "# Sum over output and print prediction using the numpy method\n",
    "prediction = reduce_sum(output)\n",
    "print(prediction.numpy())"
   ]
  },
  {
   "cell_type": "markdown",
   "id": "3923eef0-784a-440b-9e8a-2b669013553a",
   "metadata": {},
   "source": [
    "### Setting the data type\n",
    "In this exercise, you will both load data and set its type. Note that housing is available and pandas has been imported as pd. You will import numpy and tensorflow, and define tensors that are usable in tensorflow using columns in housing with a given data type. Recall that you can select the price column, for instance, from housing using housing['price'].\n",
    "\n",
    "Instructions\n",
    "100 XP\n",
    "Import numpy and tensorflow under their standard aliases.\n",
    "Use a numpy array to set the tensor price to have a data type of 32-bit floating point number\n",
    "Use the tensorflow function cast() to set the tensor waterfront to have a Boolean data type.\n",
    "Print price and then waterfront. Did you notice any important differences?"
   ]
  },
  {
   "cell_type": "code",
   "execution_count": null,
   "id": "115c3fa9-9610-4201-9e6b-79fb9a065b87",
   "metadata": {},
   "outputs": [],
   "source": [
    "# Import numpy and tensorflow with their standard aliases\n",
    "import numpy as np\n",
    "import tensorflow as tf\n",
    "\n",
    "# Use a numpy array to define price as a 32-bit float\n",
    "price = np.array(housing['price'], np.float)\n",
    "\n",
    "# Define waterfront as a Boolean using cast\n",
    "waterfront = tf.cast(housing['waterfront'], tf.bool)\n",
    "\n",
    "# Print price and waterfront\n",
    "print(price)\n",
    "print(waterfront)"
   ]
  },
  {
   "cell_type": "markdown",
   "id": "6e4a1682-359c-4e0f-9546-979ea382c269",
   "metadata": {},
   "source": [
    "### Introduction to Loss Functions\n",
    "- Used to train a model because they tell us how well our model explains the data\n",
    "- Higher value -> worst fit\n",
    "- Try to minimize the loss function\n"
   ]
  },
  {
   "cell_type": "markdown",
   "id": "0f493d03-2af4-427d-97d3-600c9baa6b74",
   "metadata": {},
   "source": [
    "### Loss functions in TensorFlow\n",
    "In this exercise, you will compute the loss using data from the King County housing dataset. You are given a target, price, which is a tensor of house prices, and predictions, which is a tensor of predicted house prices. You will evaluate the loss function and print out the value of the loss.\n",
    "\n",
    "Instructions 2/2\n",
    "50 XP\n",
    "Import the keras module from tensorflow. Then, use price and predictions to compute the mean squared error (mse).\n",
    "\n",
    "Modify your code to compute the mean absolute error (mae), rather than the mean squared error (mse)."
   ]
  },
  {
   "cell_type": "code",
   "execution_count": null,
   "id": "089e1225-6398-403f-a703-b8fe271f0b3d",
   "metadata": {},
   "outputs": [],
   "source": [
    "# Import the keras module from tensorflow\n",
    "from tensorflow import keras\n",
    "\n",
    "# Compute the mean absolute error (mae)\n",
    "loss = keras.losses.mae(price, predictions)\n",
    "\n",
    "# Print the mean absolute error (mae)\n",
    "print(loss.numpy())"
   ]
  },
  {
   "cell_type": "markdown",
   "id": "22775266-8683-4aa0-b749-3ce1dd9e1dea",
   "metadata": {},
   "source": [
    "### Modifying the loss function\n",
    "In the previous exercise, you defined a tensorflow loss function and then evaluated it once for a set of actual and predicted values. In this exercise, you will compute the loss within another function called loss_function(), which first generates predicted values from the data and variables. The purpose of this is to construct a function of the trainable model variables that returns the loss. You can then repeatedly evaluate this function for different variable values until you find the minimum. In practice, you will pass this function to an optimizer in tensorflow. Note that features and targets have been defined and are available. Additionally, Variable, float32, and keras are available.\n",
    "\n",
    "Instructions\n",
    "100 XP\n",
    "Define a variable, scalar, with an initial value of 1.0 and a type of float32.\n",
    "Define a function called loss_function(), which takes scalar, features, and targets as arguments in that order.\n",
    "Use a mean absolute error loss function."
   ]
  },
  {
   "cell_type": "code",
   "execution_count": null,
   "id": "194d6f49-1e17-4db0-873e-d799598876e9",
   "metadata": {},
   "outputs": [],
   "source": [
    "# Initialize a variable named scalar\n",
    "scalar = Variable(1.0, float32)\n",
    "\n",
    "# Define the model\n",
    "def model(scalar, features = features):\n",
    "  \treturn scalar * features\n",
    "\n",
    "# Define a loss function\n",
    "def loss_function(scalar, features = features, targets = targets):\n",
    "\t# Compute the predicted values\n",
    "\tpredictions = model(scalar, features)\n",
    "    \n",
    "\t# Return the mean absolute error loss\n",
    "\treturn keras.losses.mae(targets, predictions)\n",
    "\n",
    "# Evaluate the loss function and print the loss\n",
    "print(loss_function(scalar).numpy())"
   ]
  },
  {
   "cell_type": "markdown",
   "id": "3b5431dd-bedc-4b2c-a479-274c9c83a976",
   "metadata": {},
   "source": [
    "### Set up a linear regression\n",
    "A univariate linear regression identifies the relationship between a single feature and the target tensor. In this exercise, we will use a property's lot size and price. Just as we discussed in the video, we will take the natural logarithms of both tensors, which are available as price_log and size_log.\n",
    "\n",
    "In this exercise, you will define the model and the loss function. You will then evaluate the loss function for two different values of intercept and slope. Remember that the predicted values are given by intercept + features*slope. Additionally, note that keras.losses.mse() is available for you. Furthermore, slope and intercept have been defined as variables.\n",
    "\n",
    "Instructions\n",
    "100 XP\n",
    "Define a function that returns the predicted values for a linear regression using intercept, features, and slope, and without using add() or multiply().\n",
    "Complete the loss_function() by adding the model's variables, intercept and slope, as arguments.\n",
    "Compute the mean squared error using targets and predictions."
   ]
  },
  {
   "cell_type": "code",
   "execution_count": null,
   "id": "e91edb6d-2d7e-4f92-9f90-8226e1ef3769",
   "metadata": {},
   "outputs": [],
   "source": [
    "# Define a linear regression model\n",
    "def linear_regression(intercept, slope, features = size_log):\n",
    "\treturn intercept + features*slope\n",
    "\n",
    "# Set loss_function() to take the variables as arguments\n",
    "def loss_function(intercept, slope, features = size_log, targets = price_log):\n",
    "\t# Set the predicted values\n",
    "\tpredictions = linear_regression(intercept, slope, features)\n",
    "    \n",
    "    # Return the mean squared error loss\n",
    "\treturn keras.losses.mse(targets, predictions)\n",
    "\n",
    "# Compute the loss for different slope and intercept values\n",
    "print(loss_function(0.1, 0.1).numpy())\n",
    "print(loss_function(0.1, 0.5).numpy())"
   ]
  },
  {
   "cell_type": "markdown",
   "id": "bc030e48-026b-4516-9084-716077938ef6",
   "metadata": {},
   "source": [
    "### Train a linear model\n",
    "In this exercise, we will pick up where the previous exercise ended. The intercept and slope, intercept and slope, have been defined and initialized. Additionally, a function has been defined, loss_function(intercept, slope), which computes the loss using the data and model variables.\n",
    "\n",
    "You will now define an optimization operation as opt. You will then train a univariate linear model by minimizing the loss to find the optimal values of intercept and slope. Note that the opt operation will try to move closer to the optimum with each step, but will require many steps to find it. Thus, you must repeatedly execute the operation.\n",
    "\n",
    "Instructions\n",
    "100 XP\n",
    "Initialize an Adam optimizer as opt with a learning rate of 0.5.\n",
    "Apply the .minimize() method to the optimizer.\n",
    "Pass loss_function() with the appropriate arguments as a lambda function to .minimize().\n",
    "Supply the list of variables that need to be updated to var_list"
   ]
  },
  {
   "cell_type": "code",
   "execution_count": null,
   "id": "4a3e7078-c72c-40e9-a382-5243b2a5c0a7",
   "metadata": {},
   "outputs": [],
   "source": [
    "# Initialize an Adam optimizer\n",
    "opt = keras.optimizers.Adam(0.5)\n",
    "\n",
    "for j in range(100):\n",
    "\t# Apply minimize, pass the loss function, and supply the variables\n",
    "\topt.minimize(lambda: loss_function(intercept, slope), var_list=[intercept, slope])\n",
    "\n",
    "\t# Print every 10th value of the loss\n",
    "\tif j % 10 == 0:\n",
    "\t\tprint(loss_function(intercept, slope).numpy())\n",
    "\n",
    "# Plot data and regression line\n",
    "plot_results(intercept, slope)"
   ]
  },
  {
   "cell_type": "markdown",
   "id": "060cef43-4577-4d44-bc00-a55199a02208",
   "metadata": {},
   "source": [
    "### Multiple linear regression\n",
    "In most cases, performing a univariate linear regression will not yield a model that is useful for making accurate predictions. In this exercise, you will perform a multiple regression, which uses more than one feature.\n",
    "\n",
    "You will use price_log as your target and size_log and bedrooms as your features. Each of these tensors has been defined and is available. You will also switch from using the the mean squared error loss to the mean absolute error loss: keras.losses.mae(). Finally, the predicted values are computed as follows: params[0] + feature1*params[1] + feature2*params[2]. Note that we've defined a vector of parameters, params, as a variable, rather than using three variables. Here, params[0] is the intercept and params[1] and params[2] are the slopes.\n",
    "\n",
    "Instructions\n",
    "100 XP\n",
    "Define a linear regression model that returns the predicted values.\n",
    "Set loss_function() to take the parameter vector as an input.\n",
    "Use the mean absolute error loss.\n",
    "Complete the minimization operation."
   ]
  },
  {
   "cell_type": "code",
   "execution_count": null,
   "id": "b48e3df3-e2e7-4e6c-922c-906a144baf08",
   "metadata": {},
   "outputs": [],
   "source": [
    "# Define the linear regression model\n",
    "def linear_regression(params, feature1 = size_log, feature2 = bedrooms):\n",
    "    return params[0] + feature1*params[1] + feature2*params[2]\n",
    " \n",
    "# Define the loss function\n",
    "def loss_function(params, targets = price_log, feature1 = size_log, feature2 = bedrooms):\n",
    "    # Set the predicted values\n",
    "    predictions = linear_regression(params, feature1, feature2)\n",
    "   \n",
    "    # Use the mean absolute error loss\n",
    "    return keras.losses.mae(targets, predictions)\n",
    " \n",
    "# Define the optimize operation\n",
    "opt = keras.optimizers.Adam()\n",
    " \n",
    "# Perform minimization and print trainable variables\n",
    "for j in range(10):\n",
    "    opt.minimize(lambda: loss_function(params), var_list=[params])\n",
    "    print_results(params)"
   ]
  },
  {
   "cell_type": "markdown",
   "id": "b9156df0-3b14-432a-bd15-fea794419eca",
   "metadata": {},
   "source": [
    "### Batch training\n",
    "- Since you cant fit the entire dataset in memory, you will divide into batches and train on batches\n",
    "- epoch: single pass over all batches\n",
    "\n",
    "## Full Sample vs Batch Training\n",
    "### Full Sample\n",
    "- one update per epoch\n",
    "- accepts dataset without modification\n",
    "- limited by memory\n",
    "\n",
    "### Batch Training\n",
    "- Multiple updates per epoch\n",
    "- Requires division of dataset\n",
    "- No limit on dataset size\n",
    "\n"
   ]
  },
  {
   "cell_type": "markdown",
   "id": "82f5a590-a4a4-4af5-90e1-3d743d2af0be",
   "metadata": {},
   "source": [
    "### Preparing to batch train\n",
    "Before we can train a linear model in batches, we must first define variables, a loss function, and an optimization operation. In this exercise, we will prepare to train a model that will predict price_batch, a batch of house prices, using size_batch, a batch of lot sizes in square feet. In contrast to the previous lesson, we will do this by loading batches of data using pandas, converting it to numpy arrays, and then using it to minimize the loss function in steps.\n",
    "\n",
    "Variable(), keras(), and float32 have been imported for you. Note that you should not set default argument values for either the model or loss function, since we will generate the data in batches during the training process.\n",
    "\n",
    "Instructions\n",
    "100 XP\n",
    "Define intercept as having an initial value of 10.0 and a data type of 32-bit float.\n",
    "Define the model to return the predicted values using intercept, slope, and features.\n",
    "Define a function called loss_function() that takes intercept, slope, targets, and features as arguments and in that order. Do not set default argument values.\n",
    "Define the mean squared error loss function using targets and predictions."
   ]
  },
  {
   "cell_type": "code",
   "execution_count": null,
   "id": "5440d592-d6e8-4218-9611-9e6dd83ac149",
   "metadata": {},
   "outputs": [],
   "source": [
    "# Define the intercept and slope\n",
    "intercept = Variable(10.0, float32)\n",
    "slope = Variable(0.5, float32)\n",
    " \n",
    "# Define the model\n",
    "def linear_regression(intercept, slope, features):\n",
    "    # Define the predicted values\n",
    "    return intercept + slope*features\n",
    " \n",
    "# Define the loss function\n",
    "def loss_function(intercept, slope, targets, features):\n",
    "    # Define the predicted values\n",
    "    predictions = linear_regression(intercept, slope, features)\n",
    "     \n",
    "    # Define the MSE loss\n",
    "    return keras.losses.mse(targets, predictions)"
   ]
  },
  {
   "cell_type": "markdown",
   "id": "eec16b4c-6935-480a-a85f-1c3c007c7977",
   "metadata": {},
   "source": [
    "### Training a linear model in batches\n",
    "In this exercise, we will train a linear regression model in batches, starting where we left off in the previous exercise. We will do this by stepping through the dataset in batches and updating the model's variables, intercept and slope, after each step. This approach will allow us to train with datasets that are otherwise too large to hold in memory.\n",
    "\n",
    "Note that the loss function,loss_function(intercept, slope, targets, features), has been defined for you. Additionally, keras has been imported for you and numpy is available as np. The trainable variables should be entered into var_list in the order in which they appear as loss function arguments.\n",
    "\n",
    "Instructions\n",
    "100 XP\n",
    "Use the .Adam() optimizer.\n",
    "Load in the data from 'kc_house_data.csv' in batches with a chunksize of 100.\n",
    "Extract the price column from batch, convert it to a numpy array of type 32-bit float, and assign it to price_batch.\n",
    "Complete the loss function, fill in the list of trainable variables, and perform minimization."
   ]
  },
  {
   "cell_type": "code",
   "execution_count": null,
   "id": "38ff4c7e-c811-4988-be7b-b80b0982c516",
   "metadata": {},
   "outputs": [],
   "source": [
    "# Initialize adam optimizer\n",
    "opt = keras.optimizers.Adam()\n",
    " \n",
    "# Load data in batches\n",
    "for batch in pd.read_csv('kc_house_data.csv', chunksize=100):\n",
    "    size_batch = np.array(batch['sqft_lot'], np.float32)\n",
    " \n",
    "    # Extract the price values for the current batch\n",
    "    price_batch = np.array(batch['price'], np.float32)\n",
    " \n",
    "    # Complete the loss, fill in the variable list, and minimize\n",
    "    opt.minimize(lambda: loss_function(intercept, slope, price_batch, size_batch), var_list=[intercept, slope])\n",
    " \n",
    "# Print trained parameters\n",
    "print(intercept.numpy(), slope.numpy())"
   ]
  },
  {
   "cell_type": "markdown",
   "id": "c659a370-840d-4f8c-80b1-87f662f047d5",
   "metadata": {},
   "source": [
    "### Deep Learning"
   ]
  },
  {
   "cell_type": "markdown",
   "id": "5f1f7901-4c94-41b6-a4a6-1930e34e1a79",
   "metadata": {},
   "source": [
    "### The linear algebra of dense layers\n",
    "There are two ways to define a dense layer in tensorflow. The first involves the use of low-level, linear algebraic operations. The second makes use of high-level keras operations. In this exercise, we will use the first method to construct the network shown in the image below.\n",
    "\n",
    "This image depicts an neural network with 5 input nodes and 3 output nodes.\n",
    "The input layer contains 3 features -- education, marital status, and age -- which are available as borrower_features. The hidden layer contains 2 nodes and the output layer contains a single node.\n",
    "\n",
    "For each layer, you will take the previous layer as an input, initialize a set of weights, compute the product of the inputs and weights, and then apply an activation function. Note that Variable(), ones(), matmul(), and keras() have been imported from tensorflow.\n",
    "\n",
    "Instructions 2/2\n",
    "50 XP\n",
    "Initialize weights2 as a variable using a 2x1 tensor of ones.\n",
    "Compute the product of dense1 by weights2 using matrix multiplication.\n",
    "Use a sigmoid activation function to transform product2 + bias2."
   ]
  },
  {
   "cell_type": "code",
   "execution_count": null,
   "id": "3aa3ed2c-e4cd-4417-ae04-f57da47a2e6c",
   "metadata": {},
   "outputs": [],
   "source": [
    "# Initialize bias1\n",
    "bias1 = Variable(1.0)\n",
    "\n",
    "# Initialize weights1 as 3x2 variable of ones\n",
    "weights1 = Variable(ones((3, 2)))\n",
    "\n",
    "# Perform matrix multiplication of borrower_features and weights1\n",
    "product1 = matmul(borrower_features, weights1)\n",
    "\n",
    "# Apply sigmoid activation function to product1 + bias1\n",
    "dense1 = keras.activations.sigmoid(product1 + bias1)\n",
    "\n",
    "# Print shape of dense1\n",
    "print(\"\\n dense1's output shape: {}\".format(dense1.shape))\n",
    "\n",
    "# From previous step\n",
    "bias1 = Variable(1.0)\n",
    "weights1 = Variable(ones((3, 2)))\n",
    "product1 = matmul(borrower_features, weights1)\n",
    "dense1 = keras.activations.sigmoid(product1 + bias1)\n",
    "\n",
    "# Initialize bias2 and weights2\n",
    "bias2 = Variable(1.0)\n",
    "weights2 = Variable(ones((2, 1)))\n",
    "\n",
    "# Perform matrix multiplication of dense1 and weights2\n",
    "product2 = matmul(dense1, weights2)\n",
    "\n",
    "# Apply activation to product2 + bias2 and print the prediction\n",
    "prediction = keras.activations.sigmoid(product2 + bias2)\n",
    "print('\\n prediction: {}'.format(prediction.numpy()[0,0]))\n",
    "print('\\n actual: 1')"
   ]
  },
  {
   "cell_type": "markdown",
   "id": "28a24d94-54fc-4a3c-8e4b-7969864170e6",
   "metadata": {},
   "source": [
    "### Model Validation\n",
    "- keep training until validation score isn't improving, then stop training.\n",
    "\n",
    "### Early Stopping\n",
    "- early stopping monitor before fitting model\n",
    "- how many epics model can go without improving, then stop\n",
    "- typically 2-3 is a good stopping point"
   ]
  },
  {
   "cell_type": "markdown",
   "id": "ad69d4b9-64ff-45dd-9503-8227b6f43f40",
   "metadata": {},
   "source": [
    "### Early stopping: Optimizing the optimization\n",
    "Now that you know how to monitor your model performance throughout optimization, you can use early stopping to stop optimization when it isn't helping any more. Since the optimization stops automatically when it isn't helping, you can also set a high value for epochs in your call to .fit(), as Dan showed in the video.\n",
    "\n",
    "The model you'll optimize has been specified as model. As before, the data is pre-loaded as predictors and target.\n",
    "\n",
    "Instructions\n",
    "100 XP\n",
    "Import EarlyStopping from tensorflow.keras.callbacks.\n",
    "Compile the model, once again using 'adam' as the optimizer, 'categorical_crossentropy' as the loss function, and metrics=['accuracy'] to see the accuracy at each epoch.\n",
    "Create an EarlyStopping object called early_stopping_monitor. Stop optimization when the validation loss hasn't improved for 2 epochs by specifying the patience parameter of EarlyStopping() to be 2.\n",
    "Fit the model using the predictors and target. Specify the number of epochs to be 30 and use a validation split of 0.3. In addition, pass [early_stopping_monitor] to the callbacks parameter."
   ]
  },
  {
   "cell_type": "code",
   "execution_count": null,
   "id": "53d3f0d0-3891-48d0-aad7-17e0b880a74a",
   "metadata": {},
   "outputs": [],
   "source": [
    "# Import EarlyStopping\n",
    "from tensorflow.keras.callbacks import EarlyStopping\n",
    "\n",
    "# Save the number of columns in predictors: n_cols\n",
    "n_cols = predictors.shape[1]\n",
    "input_shape = (n_cols,)\n",
    "\n",
    "# Specify the model\n",
    "model = Sequential()\n",
    "model.add(Dense(100, activation='relu', input_shape = input_shape))\n",
    "model.add(Dense(100, activation='relu'))\n",
    "model.add(Dense(2, activation='softmax'))\n",
    "\n",
    "# Compile the model\n",
    "model.compile(optimizer='adam', loss='categorical_crossentropy', metrics=['accuracy'])\n",
    "\n",
    "\n",
    "# Define early_stopping_monitor\n",
    "early_stopping_monitor = EarlyStopping(patience=2)\n",
    "\n",
    "# Fit the model\n",
    "model.fit(predictors, target, validation_split=.3, epochs=30, callbacks= [early_stopping_monitor])"
   ]
  },
  {
   "cell_type": "markdown",
   "id": "456aa3a5-0e2b-46cf-ae2f-5ff9e1bf7e9e",
   "metadata": {},
   "source": [
    "### Experimenting with wider networks\n",
    "Now you know everything you need to begin experimenting with different models!\n",
    "\n",
    "A model called model_1 has been pre-loaded. You can see a summary of this model printed in the IPython Shell. This is a relatively small network, with only 10 units in each hidden layer.\n",
    "\n",
    "In this exercise you'll create a new model called model_2 which is similar to model_1, except it has 100 units in each hidden layer.\n",
    "\n",
    "After you create model_2, both models will be fitted, and a graph showing both models loss score at each epoch will be shown. We added the argument verbose=False in the fitting commands to print out fewer updates, since you will look at these graphically instead of as text.\n",
    "\n",
    "Because you are fitting two models, it will take a moment to see the outputs after you hit run, so be patient.\n",
    "\n",
    "Instructions\n",
    "100 XP\n",
    "Create model_2 to replicate model_1, but use 100 nodes instead of 10 for the first two Dense layers you add with the 'relu' activation. Use 2 nodes for the Dense output layer with 'softmax' as the activation.\n",
    "Compile model_2 as you have done with previous models: Using 'adam' as the optimizer, 'categorical_crossentropy' for the loss, and metrics=['accuracy'].\n",
    "Hit 'Submit Answer' to fit both the models and visualize which one gives better results! Notice the keyword argument verbose=False in model.fit(): This prints out fewer updates, since you'll be evaluating the models graphically instead of through text."
   ]
  },
  {
   "cell_type": "code",
   "execution_count": null,
   "id": "5f80d5a1-941a-4a83-b257-acf415239afc",
   "metadata": {},
   "outputs": [],
   "source": [
    "# Define early_stopping_monitor\n",
    "early_stopping_monitor = EarlyStopping(patience=2)\n",
    "\n",
    "# Create the new model: model_2\n",
    "model_2 = Sequential()\n",
    "\n",
    "# Add the first and second layers\n",
    "model_2.add(Dense(100, activation='relu', input_shape=input_shape))\n",
    "model_2.add(Dense(100, activation='relu'))\n",
    "\n",
    "# Add the output layer\n",
    "model_2.add(Dense(2, activation='softmax'))\n",
    "\n",
    "# Compile model_2\n",
    "model_2.compile(optimizer='adam', loss='categorical_crossentropy', metrics=['accuracy'])\n",
    "\n",
    "\n",
    "# Fit model_1\n",
    "model_1_training = model_1.fit(predictors, target, epochs=15, validation_split=0.2, callbacks=[early_stopping_monitor], verbose=False)\n",
    "\n",
    "# Fit model_2\n",
    "model_2_training = model_2.fit(predictors, target, epochs=15, validation_split=0.2, callbacks=[early_stopping_monitor], verbose=False)\n",
    "\n",
    "# Create the plot\n",
    "plt.plot(model_1_training.history['val_loss'], 'r', model_2_training.history['val_loss'], 'b')\n",
    "plt.xlabel('Epochs')\n",
    "plt.ylabel('Validation score')\n",
    "plt.show()"
   ]
  },
  {
   "cell_type": "markdown",
   "id": "532a31b2-3eae-4d4c-b9c1-bc2c29c6e1c3",
   "metadata": {},
   "source": [
    "### Adding layers to a network\n",
    "You've seen how to experiment with wider networks. In this exercise, you'll try a deeper network (more hidden layers).\n",
    "\n",
    "Once again, you have a baseline model called model_1 as a starting point. It has 1 hidden layer, with 10 units. You can see a summary of that model's structure printed out. You will create a similar network with 3 hidden layers (still keeping 10 units in each layer).\n",
    "\n",
    "This will again take a moment to fit both models, so you'll need to wait a few seconds to see the results after you run your code.\n",
    "\n",
    "Instructions\n",
    "100 XP\n",
    "Specify a model called model_2 that is like model_1, but which has 3 hidden layers of 10 units instead of only 1 hidden layer.\n",
    "Use input_shape to specify the input shape in the first hidden layer.\n",
    "Use 'relu' activation for the 3 hidden layers and 'softmax' for the output layer, which should have 2 units.\n",
    "Compile model_2 as you have done with previous models: Using 'adam' as the optimizer, 'categorical_crossentropy' for the loss, and metrics=['accuracy'].\n",
    "Hit 'Submit Answer' to fit both the models and visualize which one gives better results!"
   ]
  },
  {
   "cell_type": "code",
   "execution_count": null,
   "id": "78668cb2-af9c-412a-a52e-b4f11e4176f8",
   "metadata": {},
   "outputs": [],
   "source": [
    "# The input shape to use in the first hidden layer\n",
    "input_shape = (n_cols,)\n",
    "\n",
    "# Create the new model: model_2\n",
    "model_2 = Sequential()\n",
    "\n",
    "# Add the first, second, and third hidden layers\n",
    "model_2.add(Dense(10, activation='relu', input_shape=input_shape))\n",
    "model_2.add(Dense(10, activation='relu'))\n",
    "model_2.add(Dense(10, activation='relu'))\n",
    "\n",
    "# Add the output layer\n",
    "model_2.add(Dense(2, activation='softmax'))\n",
    "\n",
    "# Compile model_2\n",
    "model_2.compile(optimizer='adam', loss='categorical_crossentropy', metrics=['accuracy'])\n",
    "\n",
    "# Fit model 1\n",
    "model_1_training = model_1.fit(predictors, target, epochs=20, validation_split=0.4, verbose=False)\n",
    "\n",
    "# Fit model 2\n",
    "model_2_training = model_2.fit(predictors, target, epochs=20, validation_split=0.4, verbose=False)\n",
    "\n",
    "# Create the plot\n",
    "plt.plot(model_1_training.history['val_loss'], 'r', model_2_training.history['val_loss'], 'b')\n",
    "plt.xlabel('Epochs')\n",
    "plt.ylabel('Validation score')\n",
    "plt.show()"
   ]
  },
  {
   "cell_type": "markdown",
   "id": "3ee819cf-69ad-4cc5-badb-78d6eb94054d",
   "metadata": {},
   "source": [
    "### Evaluating model accuracy on validation dataset\n",
    "Now it's your turn to monitor model accuracy with a validation data set. A model definition has been provided as model. Your job is to add the code to compile it and then fit it. You'll check the validation score in each epoch.\n",
    "\n",
    "Instructions\n",
    "100 XP\n",
    "Compile your model using 'adam' as the optimizer and 'categorical_crossentropy' for the loss. To see what fraction of predictions are correct (the accuracy) in each epoch, specify the additional keyword argument metrics=['accuracy'] in model.compile().\n",
    "Fit the model using the predictors and target. Create a validation split of 30% (or 0.3). This will be reported in each epoch."
   ]
  },
  {
   "cell_type": "code",
   "execution_count": null,
   "id": "20242005-b7b6-43eb-8bab-1d568a62b79d",
   "metadata": {},
   "outputs": [],
   "source": [
    "# Save the number of columns in predictors: n_cols\n",
    "n_cols = predictors.shape[1]\n",
    "input_shape = (n_cols,)\n",
    "\n",
    "# Specify the model\n",
    "model = Sequential()\n",
    "model.add(Dense(100, activation='relu', input_shape = input_shape))\n",
    "model.add(Dense(100, activation='relu'))\n",
    "model.add(Dense(2, activation='softmax'))\n",
    "\n",
    "# Compile the model\n",
    "model.compile(optimizer='adam', loss='categorical_crossentropy', metrics=['accuracy'])\n",
    "\n",
    "# Fit the model\n",
    "hist = model.fit(predictors, target, validation_split=.3)"
   ]
  },
  {
   "cell_type": "markdown",
   "id": "c82acb5c-cd2c-492b-966c-ae5a50c00a0a",
   "metadata": {},
   "source": [
    "### Using the dense layer operation\n",
    "We've now seen how to define dense layers in tensorflow using linear algebra. In this exercise, we'll skip the linear algebra and let keras work out the details. This will allow us to construct the network below, which has 2 hidden layers and 10 features, using less code than we needed for the network with 1 hidden layer and 3 features.\n",
    "\n",
    "This image depicts an neural network with 10 inputs nodes and 1 output node.\n",
    "\n",
    "To construct this network, we'll need to define three dense layers, each of which takes the previous layer as an input, multiplies it by weights, and applies an activation function. Note that input data has been defined and is available as a 100x10 tensor: borrower_features. Additionally, the keras.layers module is available.\n",
    "\n",
    "Instructions\n",
    "100 XP\n",
    "Set dense1 to be a dense layer with 7 output nodes and a sigmoid activation function.\n",
    "Define dense2 to be dense layer with 3 output nodes and a sigmoid activation function.\n",
    "Define predictions to be a dense layer with 1 output node and a sigmoid activation function.\n",
    "Print the shapes of dense1, dense2, and predictions in that order using the .shape method. Why does each of these tensors have 100 rows?"
   ]
  },
  {
   "cell_type": "code",
   "execution_count": null,
   "id": "c0ebfc53-8ae5-434e-9577-e116a05654a2",
   "metadata": {},
   "outputs": [],
   "source": [
    "# Define the first dense layer\n",
    "dense1 = keras.layers.Dense(7, activation='sigmoid')(borrower_features)\n",
    "\n",
    "# Define a dense layer with 3 output nodes\n",
    "dense2 = keras.layers.Dense(3, activation='sigmoid')(dense1)\n",
    "\n",
    "# Define a dense layer with 1 output node\n",
    "predictions =  keras.layers.Dense(1, activation='sigmoid')(dense2)\n",
    "\n",
    "# Print the shapes of dense1, dense2, and predictions\n",
    "print('\\n shape of dense1: ', dense1.shape)\n",
    "print('\\n shape of dense2: ', dense2.shape)\n",
    "print('\\n shape of predictions: ', predictions.shape)"
   ]
  },
  {
   "cell_type": "markdown",
   "id": "ccc7d336-089f-4605-97be-eaafa9fe707c",
   "metadata": {},
   "source": [
    "### Activation Functions\n",
    "- Components of a typical hidden layer\n",
    "    - Linear: Matrix multiplication\n",
    "    - NonLinear: Activation function\n",
    "    \n",
    "    \n",
    "- why do we need nonlinear?\n",
    "- Bill amount and Age graph\n",
    "    - bill amount usually increases early in life, but decreases later in life\n",
    "    - if we want our model to capture this, it can't be linear\n",
    "    \n",
    "    "
   ]
  },
  {
   "cell_type": "markdown",
   "id": "244bebbc-241e-4ad4-aa48-d5c67fd4ec45",
   "metadata": {},
   "source": [
    "### Binary classification problems\n",
    "In this exercise, you will again make use of credit card data. The target variable, default, indicates whether a credit card holder defaults on his or her payment in the following period. Since there are only two options--default or not--this is a binary classification problem. While the dataset has many features, you will focus on just three: the size of the three latest credit card bills. Finally, you will compute predictions from your untrained network, outputs, and compare those the target variable, default.\n",
    "\n",
    "The tensor of features has been loaded and is available as bill_amounts. Additionally, the constant(), float32, and keras.layers.Dense() operations are available.\n",
    "\n",
    "Instructions\n",
    "100 XP\n",
    "Define inputs as a 32-bit floating point constant tensor using bill_amounts.\n",
    "Set dense1 to be a dense layer with 3 output nodes and a relu activation function.\n",
    "Set dense2 to be a dense layer with 2 output nodes and a relu activation function.\n",
    "Set the output layer to be a dense layer with a single output node and a sigmoid activation function."
   ]
  },
  {
   "cell_type": "code",
   "execution_count": null,
   "id": "53be0502-031b-4248-b172-0f67ca8a5de5",
   "metadata": {},
   "outputs": [],
   "source": [
    "# Construct input layer from features\n",
    "inputs = constant(bill_amounts, float32)\n",
    "\n",
    "# Define first dense layer\n",
    "dense1 = keras.layers.Dense(3, activation='relu')(inputs)\n",
    "\n",
    "# Define second dense layer\n",
    "dense2 = keras.layers.Dense(2, activation='relu')(dense1)\n",
    "\n",
    "# Define output layer\n",
    "outputs = keras.layers.Dense(1, activation='sigmoid')(dense2)\n",
    "\n",
    "# Print error for first five examples\n",
    "error = default[:5] - outputs.numpy()[:5]\n",
    "print(error)"
   ]
  },
  {
   "cell_type": "code",
   "execution_count": null,
   "id": "72bb69b0-f4e1-41b7-9039-bed2a84bcd41",
   "metadata": {},
   "outputs": [],
   "source": [
    "### Multiclass classification problems\n",
    "In this exercise, we expand beyond binary classification to cover multiclass problems. A multiclass problem has targets that can take on three or more values. In the credit card dataset, the education variable can take on 6 different values, each corresponding to a different level of education. We will use that as our target in this exercise and will also expand the feature set from 3 to 10 columns.\n",
    "\n",
    "As in the previous problem, you will define an input layer, dense layers, and an output layer. You will also print the untrained model's predictions, which are probabilities assigned to the classes. The tensor of features has been loaded and is available as borrower_features. Additionally, the constant(), float32, and keras.layers.Dense() operations are available.\n",
    "\n",
    "Instructions\n",
    "100 XP\n",
    "Define the input layer as a 32-bit constant tensor using borrower_features.\n",
    "Set the first dense layer to have 10 output nodes and a sigmoid activation function.\n",
    "Set the second dense layer to have 8 output nodes and a rectified linear unit activation function.\n",
    "Set the output layer to have 6 output nodes and the appropriate activation function (softmax for multiclass)"
   ]
  },
  {
   "cell_type": "code",
   "execution_count": null,
   "id": "ddd1af79-c140-4c21-9618-2f9dee624a33",
   "metadata": {},
   "outputs": [],
   "source": [
    "# Construct input layer from borrower features\n",
    "inputs = constant(borrower_features, float32)\n",
    "\n",
    "# Define first dense layer\n",
    "dense1 = keras.layers.Dense(10, activation='sigmoid')(inputs)\n",
    "\n",
    "# Define second dense layer\n",
    "dense2 = keras.layers.Dense(8, activation='relu')(dense1)\n",
    "\n",
    "# Define output layer\n",
    "outputs = keras.layers.Dense(6, activation='softmax')(dense2)\n",
    "\n",
    "# Print first five predictions\n",
    "print(outputs.numpy()[:5])"
   ]
  },
  {
   "cell_type": "markdown",
   "id": "da93168c-59e1-4f0e-97c7-d7a5606f941d",
   "metadata": {},
   "source": [
    "### Optimizers\n",
    "- to find lowest point, pick a point, measure difference, and repeat the same to nearby points\n",
    "\n",
    "### Popular optimizers include:\n",
    "- SGD, RMS, ADAM optimizer"
   ]
  },
  {
   "cell_type": "markdown",
   "id": "326f9958-add3-46c0-bdae-1d8b87363fee",
   "metadata": {},
   "source": [
    "### The dangers of local minima\n",
    "Consider the plot of the following loss function, loss_function(), which contains a global minimum, marked by the dot on the right, and several local minima, including the one marked by the dot on the left.\n",
    "\n",
    "The graph is of a single variable function that contains multiple local minima and a global minimum.\n",
    "\n",
    "In this exercise, you will try to find the global minimum of loss_function() using keras.optimizers.SGD(). You will do this twice, each time with a different initial value of the input to loss_function(). First, you will use x_1, which is a variable with an initial value of 6.0. Second, you will use x_2, which is a variable with an initial value of 0.3. Note that loss_function() has been defined and is available.\n",
    "\n",
    "Instructions\n",
    "100 XP\n",
    "Set opt to use the stochastic gradient descent optimizer (SGD) with a learning rate of 0.01.\n",
    "Perform minimization using the loss function, loss_function(), and the variable with an initial value of 6.0, x_1.\n",
    "Perform minimization using the loss function, loss_function(), and the variable with an initial value of 0.3, x_2.\n",
    "Print x_1 and x_2 as numpy arrays and check whether the values differ. These are the minima that the algorithm identified."
   ]
  },
  {
   "cell_type": "code",
   "execution_count": null,
   "id": "1b4280f2-29b3-40a7-8ec0-cc1a8880840f",
   "metadata": {},
   "outputs": [],
   "source": [
    "# Initialize x_1 and x_2\n",
    "x_1 = Variable(6.0,float32)\n",
    "x_2 = Variable(0.3,float32)\n",
    "\n",
    "# Define the optimization operation\n",
    "opt = keras.optimizers.SGD(learning_rate=0.01)\n",
    "\n",
    "for j in range(100):\n",
    "\t# Perform minimization using the loss function and x_1\n",
    "\topt.minimize(lambda: loss_function(x_1), var_list=[x_1])\n",
    "\t# Perform minimization using the loss function and x_2\n",
    "\topt.minimize(lambda: loss_function(x_2), var_list=[x_2])\n",
    "\n",
    "# Print x_1 and x_2 as numpy arrays\n",
    "print(x_1.numpy(), x_2.numpy())"
   ]
  },
  {
   "cell_type": "markdown",
   "id": "f6e0fd77-fe88-48ea-9ce1-b27ec959c69d",
   "metadata": {},
   "source": [
    "### Avoiding local minima\n",
    "The previous problem showed how easy it is to get stuck in local minima. We had a simple optimization problem in one variable and gradient descent still failed to deliver the global minimum when we had to travel through local minima first. One way to avoid this problem is to use momentum, which allows the optimizer to break through local minima. We will again use the loss function from the previous problem, which has been defined and is available for you as loss_function().\n",
    "\n",
    "The graph is of a single variable function that contains multiple local minima and a global minimum.\n",
    "\n",
    "Several optimizers in tensorflow have a momentum parameter, including SGD and RMSprop. You will make use of RMSprop in this exercise. Note that x_1 and x_2 have been initialized to the same value this time. Furthermore, keras.optimizers.RMSprop() has also been imported for you from tensorflow.\n",
    "\n",
    "Instructions\n",
    "100 XP\n",
    "Set the opt_1 operation to use a learning rate of 0.01 and a momentum of 0.99.\n",
    "Set opt_2 to use the root mean square propagation (RMS) optimizer with a learning rate of 0.01 and a momentum of 0.00.\n",
    "Define the minimization operation for opt_2.\n",
    "Print x_1 and x_2 as numpy arrays."
   ]
  },
  {
   "cell_type": "code",
   "execution_count": null,
   "id": "9808e64f-cee9-462d-9db6-07d64a73780e",
   "metadata": {},
   "outputs": [],
   "source": [
    "# Initialize x_1 and x_2\n",
    "x_1 = Variable(0.05,float32)\n",
    "x_2 = Variable(0.05,float32)\n",
    "\n",
    "# Define the optimization operation for opt_1 and opt_2\n",
    "opt_1 = keras.optimizers.RMSprop(learning_rate=0.01, momentum=0.99)\n",
    "opt_2 = keras.optimizers.RMSprop(learning_rate=0.01, momentum=0.00)\n",
    "\n",
    "for j in range(100):\n",
    "\topt_1.minimize(lambda: loss_function(x_1), var_list=[x_1])\n",
    "    # Define the minimization operation for opt_2\n",
    "\topt_2.minimize(lambda: loss_function(x_2), var_list=[x_2])\n",
    "\n",
    "# Print x_1 and x_2 as numpy arrays\n",
    "print(x_1.numpy(), x_2.numpy())"
   ]
  },
  {
   "cell_type": "code",
   "execution_count": null,
   "id": "96127b1b-7115-439c-915d-946fd4e6a734",
   "metadata": {},
   "outputs": [],
   "source": [
    "### Training a network in TensorFlow\n",
    "- finding global minimum can be difficult, even when we're minimizing a simple loss function\n",
    "- improve our chances by selecting better initial values\n",
    "\n",
    "### How to overcome this?\n",
    "- May need to initialize thousand of variables\n",
    "- simply using ones wont work\n",
    "- could use random or algorimatic generation of variables using normal or uniform distribution\n",
    "\n",
    "\n",
    "### How to handle overfitting:\n",
    "- Apply a dropout, an operation that will randomly drop the weights to certain nodes in training process. Force network to develop more robust rules so it wont rely on any particular nodes being passed to an activation function.\n"
   ]
  },
  {
   "cell_type": "markdown",
   "id": "c934a5b7-f8b2-457e-a9c7-d231eab656e0",
   "metadata": {},
   "source": [
    "### Initialization in TensorFlow\n",
    "A good initialization can reduce the amount of time needed to find the global minimum. In this exercise, we will initialize weights and biases for a neural network that will be used to predict credit card default decisions. To build intuition, we will use the low-level, linear algebraic approach, rather than making use of convenience functions and high-level keras operations. We will also expand the set of input features from 3 to 23. Several operations have been imported from tensorflow: Variable(), random(), and ones().\n",
    "\n",
    "Instructions\n",
    "100 XP\n",
    "Initialize the layer 1 weights, w1, as a Variable() with shape [23, 7], drawn from a normal distribution.\n",
    "Initialize the layer 1 bias using ones.\n",
    "Use a draw from the normal distribution to initialize w2 as a Variable() with shape [7, 1].\n",
    "Define b2 as a Variable() and set its initial value to 0.0."
   ]
  },
  {
   "cell_type": "code",
   "execution_count": null,
   "id": "a25fc486-b0c5-4f8b-819f-7d237fd52317",
   "metadata": {},
   "outputs": [],
   "source": [
    "# Define the layer 1 weights\n",
    "w1 = Variable(random.normal([23, 7]))\n",
    "\n",
    "# Initialize the layer 1 bias\n",
    "b1 = Variable(ones([7]))\n",
    "\n",
    "# Define the layer 2 weights\n",
    "w2 = Variable(random.normal([7, 1]))\n",
    "\n",
    "# Define the layer 2 bias\n",
    "b2 = Variable((0))"
   ]
  },
  {
   "cell_type": "markdown",
   "id": "314799b7-1206-4659-b82c-01fa12b599eb",
   "metadata": {},
   "source": [
    "### Defining the model and loss function\n",
    "In this exercise, you will train a neural network to predict whether a credit card holder will default. The features and targets you will use to train your network are available in the Python shell as borrower_features and default. You defined the weights and biases in the previous exercise.\n",
    "\n",
    "Note that the predictions layer is defined as \n",
    ", where \n",
    " is the sigmoid activation, layer1 is a tensor of nodes for the first hidden dense layer, w2 is a tensor of weights, and b2 is the bias tensor.\n",
    "\n",
    "The trainable variables are w1, b1, w2, and b2. Additionally, the following operations have been imported for you: keras.activations.relu() and keras.layers.Dropout().\n",
    "\n",
    "Instructions\n",
    "100 XP\n",
    "Apply a rectified linear unit activation function to the first layer.\n",
    "Apply 25% dropout to layer1.\n",
    "Pass the target, targets, and the predicted values, predictions, to the cross entropy loss function."
   ]
  },
  {
   "cell_type": "code",
   "execution_count": null,
   "id": "866ff2f9-764d-4a4d-8981-c2be39934a63",
   "metadata": {},
   "outputs": [],
   "source": [
    "# Define the model\n",
    "def model(w1, b1, w2, b2, features = borrower_features):\n",
    "\t# Apply relu activation functions to layer 1\n",
    "\tlayer1 = keras.activations.relu(matmul(features, w1) + b1)\n",
    "    # Apply dropout\n",
    "\tdropout = keras.layers.Dropout(0.25)(layer1)\n",
    "\treturn keras.activations.sigmoid(matmul(dropout, w2) + b2)\n",
    "\n",
    "# Define the loss function\n",
    "def loss_function(w1, b1, w2, b2, features = borrower_features, targets = default):\n",
    "\tpredictions = model(w1, b1, w2, b2)\n",
    "\t# Pass targets and predictions to the cross entropy loss\n",
    "\treturn keras.losses.binary_crossentropy(targets, predictions)"
   ]
  },
  {
   "cell_type": "markdown",
   "id": "3fec11c8-f8bf-4947-922d-065ae281598f",
   "metadata": {},
   "source": [
    "### Training neural networks with TensorFlow\n",
    "In the previous exercise, you defined a model, model(w1, b1, w2, b2, features), and a loss function, loss_function(w1, b1, w2, b2, features, targets), both of which are available to you in this exercise. You will now train the model and then evaluate its performance by predicting default outcomes in a test set, which consists of test_features and test_targets and is available to you. The trainable variables are w1, b1, w2, and b2. Additionally, the following operations have been imported for you: keras.activations.relu() and keras.layers.Dropout().\n",
    "\n",
    "Instructions\n",
    "100 XP\n",
    "Set the optimizer to perform minimization.\n",
    "Add the four trainable variables to var_list in the order in which they appear as arguments to loss_function().\n",
    "Use the model and test_features to predict the values for test_targets."
   ]
  },
  {
   "cell_type": "code",
   "execution_count": null,
   "id": "4627cf38-93dd-4a22-a0c7-f1a6adff2632",
   "metadata": {},
   "outputs": [],
   "source": [
    "# Train the model\n",
    "for j in range(100):\n",
    "    # Complete the optimizer\n",
    "\topt.minimize(lambda: loss_function(w1, b1, w2, b2), \n",
    "                 var_list=[w1, b1, w2, b2])\n",
    "\n",
    "# Make predictions with model\n",
    "model_predictions = model(w1, b1, w2, b2, test_features)\n",
    "\n",
    "# Construct the confusion matrix\n",
    "confusion_matrix(test_targets, model_predictions)"
   ]
  },
  {
   "cell_type": "markdown",
   "id": "3decd6bd-bede-4596-9b08-b9546f3e0334",
   "metadata": {},
   "source": [
    "Nice work! The diagram shown is called a ``confusion matrix.'' The diagonal elements show the number of correct predictions. The off-diagonal elements show the number of incorrect predictions. We can see that the model performs reasonably-well, but does so by overpredicting non-default. This suggests that we may need to train longer, tune the model's hyperparameters, or change the model's architecture."
   ]
  },
  {
   "cell_type": "markdown",
   "id": "e057b8ce-4889-4de1-b57d-bc218f86db05",
   "metadata": {},
   "source": [
    "### Defining Neural Network with Keras\n",
    "- what if you want to predict 2 models to predict the same target?\n",
    "- the functional API is for that"
   ]
  },
  {
   "cell_type": "markdown",
   "id": "bef56a98-b832-4395-a4ea-1ab490a75fe5",
   "metadata": {},
   "source": [
    "### The sequential model in Keras\n",
    "In chapter 3, we used components of the keras API in tensorflow to define a neural network, but we stopped short of using its full capabilities to streamline model definition and training. In this exercise, you will use the keras sequential model API to define a neural network that can be used to classify images of sign language letters. You will also use the .summary() method to print the model's architecture, including the shape and number of parameters associated with each layer.\n",
    "\n",
    "Note that the images were reshaped from (28, 28) to (784,), so that they could be used as inputs to a dense layer. Additionally, note that keras has been imported from tensorflow for you.\n",
    "\n",
    "Instructions\n",
    "100 XP\n",
    "Define a keras sequential model named model.\n",
    "Set the first layer to be Dense() and to have 16 nodes and a relu activation.\n",
    "Define the second layer to be Dense() and to have 8 nodes and a relu activation.\n",
    "Set the output layer to have 4 nodes and use a softmax activation function."
   ]
  },
  {
   "cell_type": "markdown",
   "id": "7519cd66-8748-46f7-bb26-17a3d79ae234",
   "metadata": {},
   "source": [
    "### The sequential model in Keras\n",
    "In chapter 3, we used components of the keras API in tensorflow to define a neural network, but we stopped short of using its full capabilities to streamline model definition and training. In this exercise, you will use the keras sequential model API to define a neural network that can be used to classify images of sign language letters. You will also use the .summary() method to print the model's architecture, including the shape and number of parameters associated with each layer.\n",
    "\n",
    "Note that the images were reshaped from (28, 28) to (784,), so that they could be used as inputs to a dense layer. Additionally, note that keras has been imported from tensorflow for you.\n",
    "\n",
    "Instructions\n",
    "100 XP\n",
    "Define a keras sequential model named model.\n",
    "Set the first layer to be Dense() and to have 16 nodes and a relu activation.\n",
    "Define the second layer to be Dense() and to have 8 nodes and a relu activation.\n",
    "Set the output layer to have 4 nodes and use a softmax activation function."
   ]
  },
  {
   "cell_type": "code",
   "execution_count": null,
   "id": "fc535b34-807f-4aa2-9c93-734e2843616b",
   "metadata": {},
   "outputs": [],
   "source": [
    "# Define a Keras sequential model\n",
    "model = keras.Sequential()\n",
    "\n",
    "# Define the first dense layer\n",
    "model.add(keras.layers.Dense(16, activation='relu', input_shape=(784,)))\n",
    "\n",
    "# Define the second dense layer\n",
    "model.add(keras.layers.Dense(8, activation='relu'))\n",
    "\n",
    "\n",
    "# Define the output layer\n",
    "model.add(keras.layers.Dense(4, activation='softmax'))\n",
    "\n",
    "# Print the model architecture\n",
    "print(model.summary())"
   ]
  },
  {
   "cell_type": "markdown",
   "id": "2801e46c-6abc-4149-806e-8e8991d95862",
   "metadata": {},
   "source": [
    "### Compiling a sequential model\n",
    "In this exercise, you will work towards classifying letters from the Sign Language MNIST dataset; however, you will adopt a different network architecture than what you used in the previous exercise. There will be fewer layers, but more nodes. You will also apply dropout to prevent overfitting. Finally, you will compile the model to use the adam optimizer and the categorical_crossentropy loss. You will also use a method in keras to summarize your model's architecture. Note that keras has been imported from tensorflow for you and a sequential keras model has been defined as model.\n",
    "\n",
    "Instructions\n",
    "100 XP\n",
    "In the first dense layer, set the number of nodes to 16, the activation to sigmoid, and the input_shape to (784,).\n",
    "Apply dropout at a rate of 25% to the first layer's output.\n",
    "Set the output layer to be dense, have 4 nodes, and use a softmax activation function.\n",
    "Compile the model using an adam optimizer and categorical_crossentropy loss function."
   ]
  },
  {
   "cell_type": "code",
   "execution_count": null,
   "id": "519df464-48ac-46b0-b527-c7f1139943ca",
   "metadata": {},
   "outputs": [],
   "source": [
    "# Define the first dense layer\n",
    "model.add(keras.layers.Dense(16, activation='sigmoid', input_shape=(784,)))\n",
    "\n",
    "# Apply dropout to the first layer's output\n",
    "model.add(keras.layers.Dropout(0.25))\n",
    "\n",
    "# Define the output layer\n",
    "model.add(keras.layers.Dense(4, activation='softmax'))\n",
    "\n",
    "# Compile the model\n",
    "model.compile('adam', loss='categorical_crossentropy')\n",
    "\n",
    "# Print a model summary\n",
    "print(model.summary())"
   ]
  },
  {
   "cell_type": "markdown",
   "id": "d7b950bc-abbb-4f03-9854-953321f0b521",
   "metadata": {},
   "source": [
    "### Defining a multiple input model\n",
    "In some cases, the sequential API will not be sufficiently flexible to accommodate your desired model architecture and you will need to use the functional API instead. If, for instance, you want to train two models with different architectures jointly, you will need to use the functional API to do this. In this exercise, we will see how to do this. We will also use the .summary() method to examine the joint model's architecture.\n",
    "\n",
    "Note that keras has been imported from tensorflow for you. Additionally, the input layers of the first and second models have been defined as m1_inputs and m2_inputs, respectively. Note that the two models have the same architecture, but one of them uses a sigmoid activation in the first layer and the other uses a relu.\n",
    "\n",
    "Instructions\n",
    "100 XP\n",
    "Pass model 1's input layer to its first layer and model 1's first layer to its second layer.\n",
    "Pass model 2's input layer to its first layer and model 2's first layer to its second layer.\n",
    "Use the add() operation to combine the second layers of model 1 and model 2.\n",
    "Complete the functional model definition."
   ]
  },
  {
   "cell_type": "code",
   "execution_count": null,
   "id": "b6083321-46b6-48d3-bf94-b6f58f6ce411",
   "metadata": {},
   "outputs": [],
   "source": [
    "# For model 1, pass the input layer to layer 1 and layer 1 to layer 2\n",
    "m1_layer1 = keras.layers.Dense(12, activation='sigmoid')(m1_inputs)\n",
    "m1_layer2 = keras.layers.Dense(4, activation='softmax')(m1_layer1)\n",
    " \n",
    "# For model 2, pass the input layer to layer 1 and layer 1 to layer 2\n",
    "m2_layer1 = keras.layers.Dense(12, activation='relu')(m2_inputs)\n",
    "m2_layer2 = keras.layers.Dense(4, activation='softmax')(m2_layer1)\n",
    " \n",
    "# Merge model outputs and define a functional model\n",
    "merged = keras.layers.add([m1_layer2, m2_layer2])\n",
    "model = keras.Model(inputs=[m1_inputs, m2_inputs], outputs=merged)\n",
    " \n",
    "# Print a model summary\n",
    "print(model.summary())"
   ]
  },
  {
   "cell_type": "markdown",
   "id": "6709a349-5dc9-47b4-a222-ad1aa212581b",
   "metadata": {},
   "source": [
    "### Training and validation with Keras\n",
    "- batch size: number of observations in batch\n",
    "- epoch: full run through\n",
    "\n",
    "### If training loss is substantially lower than validation loss, that is an indication we are overfitting"
   ]
  },
  {
   "cell_type": "markdown",
   "id": "629aec5f-4d21-44ec-b5ae-131debd4b734",
   "metadata": {},
   "source": [
    "### Training with Keras\n",
    "In this exercise, we return to our sign language letter classification problem. We have 2000 images of four letters--A, B, C, and D--and we want to classify them with a high level of accuracy. We will complete all parts of the problem, including the model definition, compilation, and training.\n",
    "\n",
    "Note that keras has been imported from tensorflow for you. Additionally, the features are available as sign_language_features and the targets are available as sign_language_labels.\n",
    "\n",
    "Instructions\n",
    "100 XP\n",
    "Define a sequential model named model.\n",
    "Set the output layer to be dense, have 4 nodes, and use a softmax activation function.\n",
    "Compile the model with the SGD optimizer and categorical_crossentropy loss.\n",
    "Complete the fitting operation and set the number of epochs to 5."
   ]
  },
  {
   "cell_type": "code",
   "execution_count": null,
   "id": "0cee3142-4454-4616-bf32-2f1969113011",
   "metadata": {},
   "outputs": [],
   "source": [
    "# Define a sequential model\n",
    "model = keras.Sequential()\n",
    " \n",
    "# Define a hidden layer\n",
    "model.add(keras.layers.Dense(16, activation='relu', input_shape=(784,)))\n",
    " \n",
    "# Define the output layer\n",
    "model.add(keras.layers.Dense(4, activation='softmax'))\n",
    " \n",
    "# Compile the model\n",
    "model.compile('SGD', loss='categorical_crossentropy')\n",
    " \n",
    "# Complete the fitting operation\n",
    "model.fit(sign_language_features, sign_language_labels, epochs=5)"
   ]
  },
  {
   "cell_type": "markdown",
   "id": "01546a67-fb7f-4c96-8165-045d498c5701",
   "metadata": {},
   "source": [
    "### Metrics and validation with Keras\n",
    "We trained a model to predict sign language letters in the previous exercise, but it is unclear how successful we were in doing so. In this exercise, we will try to improve upon the interpretability of our results. Since we did not use a validation split, we only observed performance improvements within the training set; however, it is unclear how much of that was due to overfitting. Furthermore, since we did not supply a metric, we only saw decreases in the loss function, which do not have any clear interpretation.\n",
    "\n",
    "Note that keras has been imported for you from tensorflow.\n",
    "\n",
    "Instructions\n",
    "100 XP\n",
    "Set the first dense layer to have 32 nodes, use a sigmoid activation function, and have an input shape of (784,).\n",
    "Use the root mean square propagation optimizer, a categorical crossentropy loss, and the accuracy metric.\n",
    "Set the number of epochs to 10 and use 10% of the dataset for validation."
   ]
  },
  {
   "cell_type": "code",
   "execution_count": null,
   "id": "ecaa44b1-441b-4ad5-9599-2633d946b5c9",
   "metadata": {},
   "outputs": [],
   "source": [
    "# Define sequential model\n",
    "model = keras.Sequential()\n",
    " \n",
    "# Define the first layer\n",
    "model.add(keras.layers.Dense(32, activation='sigmoid', input_shape=(784,)))\n",
    " \n",
    "# Add activation function to classifier\n",
    "model.add(keras.layers.Dense(4, activation='softmax'))\n",
    " \n",
    "# Set the optimizer, loss function, and metrics\n",
    "model.compile(optimizer='RMSprop', loss='categorical_crossentropy', metrics=['accuracy'])\n",
    " \n",
    "# Add the number of epochs and the validation split\n",
    "model.fit(sign_language_features, sign_language_labels, epochs=10, validation_split=0.1)\n"
   ]
  },
  {
   "cell_type": "markdown",
   "id": "c6627b7e-ab84-4cb9-a7f8-cc1318c7196c",
   "metadata": {},
   "source": [
    "### Overfitting detection\n",
    "In this exercise, we'll work with a small subset of the examples from the original sign language letters dataset. A small sample, coupled with a heavily-parameterized model, will generally lead to overfitting. This means that your model will simply memorize the class of each example, rather than identifying features that generalize to many examples.\n",
    "\n",
    "You will detect overfitting by checking whether the validation sample loss is substantially higher than the training sample loss and whether it increases with further training. With a small sample and a high learning rate, the model will struggle to converge on an optimum. You will set a low learning rate for the optimizer, which will make it easier to identify overfitting.\n",
    "\n",
    "Note that keras has been imported from tensorflow.\n",
    "\n",
    "Instructions\n",
    "100 XP\n",
    "Define a sequential model in keras named model.\n",
    "Add a first dense layer with 1024 nodes, a relu activation, and an input shape of (784,).\n",
    "Set the learning rate to 0.001.\n",
    "Set the fit() operation to iterate over the full sample 50 times and use 50% of the sample for validation purposes."
   ]
  },
  {
   "cell_type": "code",
   "execution_count": null,
   "id": "416ecf0c-b269-4382-b41b-6e302d5312c5",
   "metadata": {},
   "outputs": [],
   "source": [
    "# Define sequential model\n",
    "model = keras.Sequential()\n",
    " \n",
    "# Define the first layer\n",
    "model.add(keras.layers.Dense(1024, activation='relu', input_shape=(784,)))\n",
    " \n",
    "# Add activation function to classifier\n",
    "model.add(keras.layers.Dense(4, activation='softmax'))\n",
    " \n",
    "# Finish the model compilation\n",
    "model.compile(optimizer=keras.optimizers.Adam(lr=0.01), \n",
    "              loss='categorical_crossentropy', metrics=['accuracy'])\n",
    " \n",
    "# Complete the model fit operation\n",
    "model.fit(sign_language_features, sign_language_labels, epochs=200, validation_split=0.5)\n"
   ]
  },
  {
   "cell_type": "markdown",
   "id": "40bd5a4d-f8d9-4557-825b-c68a57a7cb18",
   "metadata": {},
   "source": [
    "### Evaluating models\n",
    "Two models have been trained and are available: large_model, which has many parameters; and small_model, which has fewer parameters. Both models have been trained using train_features and train_labels, which are available to you. A separate test set, which consists of test_features and test_labels, is also available.\n",
    "\n",
    "Your goal is to evaluate relative model performance and also determine whether either model exhibits signs of overfitting. You will do this by evaluating large_model and small_model on both the train and test sets. For each model, you can do this by applying the .evaluate(x, y) method to compute the loss for features x and labels y. You will then compare the four losses generated.\n",
    "\n",
    "Instructions\n",
    "100 XP\n",
    "Evaluate the small model using the train data.\n",
    "Evaluate the small model using the test data.\n",
    "Evaluate the large model using the train data.\n",
    "Evaluate the large model using the test data."
   ]
  },
  {
   "cell_type": "code",
   "execution_count": null,
   "id": "7cf8a334-12f6-468e-8c83-4a8a4ce96434",
   "metadata": {},
   "outputs": [],
   "source": [
    "# Evaluate the small model using the train data\n",
    "small_train = small_model.evaluate(train_features, train_labels)\n",
    " \n",
    "# Evaluate the small model using the test data\n",
    "small_test = small_model.evaluate(test_features, test_labels)\n",
    " \n",
    "# Evaluate the large model using the train data\n",
    "large_train = large_model.evaluate(train_features, train_labels)\n",
    " \n",
    "# Evaluate the large model using the test data\n",
    "large_test = large_model.evaluate(test_features, test_labels)\n",
    " \n",
    "# Print losses\n",
    "print('\\n Small - Train: {}, Test: {}'.format(small_train, small_test))\n",
    "print('Large - Train: {}, Test: {}'.format(large_train, large_test))\n"
   ]
  },
  {
   "cell_type": "markdown",
   "id": "91a83874-f9b5-48fe-bd21-07ae9ca24e1f",
   "metadata": {},
   "source": [
    "### Preparing to train with Estimators\n",
    "For this exercise, we'll return to the King County housing transaction dataset from chapter 2. We will again develop and train a machine learning model to predict house prices; however, this time, we'll do it using the estimator API.\n",
    "\n",
    "Rather than completing everything in one step, we'll break this procedure down into parts. We'll begin by defining the feature columns and loading the data. In the next exercise, we'll define and train a premade estimator. Note that feature_column has been imported for you from tensorflow. Additionally, numpy has been imported as np, and the Kings County housing dataset is available as a pandas DataFrame: housing.\n",
    "\n",
    "Instructions\n",
    "100 XP\n",
    "Complete the feature column for bedrooms and add another numeric feature column for bathrooms. Use bedrooms and bathrooms as the keys.\n",
    "Create a list of the feature columns, feature_list, in the order in which they were defined.\n",
    "Set labels to be equal to the price column in housing.\n",
    "Complete the bedrooms entry of the features dictionary and add another entry for bathrooms."
   ]
  },
  {
   "cell_type": "code",
   "execution_count": null,
   "id": "f296218e-0298-434c-b41a-cef3e677d2a0",
   "metadata": {},
   "outputs": [],
   "source": [
    "# Define feature columns for bedrooms and bathrooms\n",
    "bedrooms = feature_column.numeric_column(\"bedrooms\")\n",
    "bathrooms = feature_column.numeric_column(\"bathrooms\")\n",
    " \n",
    "# Define the list of feature columns\n",
    "feature_list = [bedrooms, bathrooms]\n",
    " \n",
    "def input_fn():\n",
    "    # Define the labels\n",
    "    labels = np.array(housing['price'])\n",
    "    # Define the features\n",
    "    features = {'bedrooms':np.array(housing['bedrooms']), \n",
    "                'bathrooms':np.array(housing['bathrooms'])}\n",
    "    return features, labels"
   ]
  },
  {
   "cell_type": "markdown",
   "id": "3750a343-a7d6-4a14-bc8b-5b2b1370d222",
   "metadata": {},
   "source": [
    "### Defining Estimators\n",
    "In the previous exercise, you defined a list of feature columns, feature_list, and a data input function, input_fn(). In this exercise, you will build on that work by defining an estimator that makes use of input data.\n",
    "\n",
    "Instructions 1/2\n",
    "50 XP\n",
    "1\n",
    "Use a deep neural network regressor with 2 nodes in both the first and second hidden layers and 1 training step.\n",
    "\n",
    "\n",
    "Take Hint (-15 XP)\n",
    "2\n",
    "Modify the code to use a LinearRegressor(), remove the hidden_units, and set the number of steps to 2."
   ]
  },
  {
   "cell_type": "code",
   "execution_count": null,
   "id": "919dea53-1bd2-48e0-b20a-d33b37c335b7",
   "metadata": {},
   "outputs": [],
   "source": [
    "# Define the model and set the number of steps\n",
    "model = estimator.DNNRegressor(feature_columns=feature_list, hidden_units=[2,2])\n",
    "model.train(input_fn, steps=1)"
   ]
  },
  {
   "cell_type": "code",
   "execution_count": null,
   "id": "91ce4761-0c9d-43c7-8847-f2afa04be3ae",
   "metadata": {},
   "outputs": [],
   "source": [
    "# Define the model and set the number of steps\n",
    "model = estimator.LinearRegressor(feature_columns=feature_list)\n",
    "model.train(input_fn, steps=2)\n"
   ]
  }
 ],
 "metadata": {
  "kernelspec": {
   "display_name": "Python 3",
   "language": "python",
   "name": "python3"
  },
  "language_info": {
   "codemirror_mode": {
    "name": "ipython",
    "version": 3
   },
   "file_extension": ".py",
   "mimetype": "text/x-python",
   "name": "python",
   "nbconvert_exporter": "python",
   "pygments_lexer": "ipython3",
   "version": "3.8.8"
  }
 },
 "nbformat": 4,
 "nbformat_minor": 5
}
